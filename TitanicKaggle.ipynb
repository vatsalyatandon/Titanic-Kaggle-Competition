{
 "cells": [
  {
   "cell_type": "markdown",
   "metadata": {},
   "source": [
    "# Titanic - Kaggle Notebook"
   ]
  },
  {
   "cell_type": "markdown",
   "metadata": {},
   "source": [
    "### Importing stuff and libraries"
   ]
  },
  {
   "cell_type": "code",
   "execution_count": 2,
   "metadata": {},
   "outputs": [],
   "source": [
    "import numpy as np\n",
    "import scipy as sc\n",
    "import pandas as pd\n",
    "import matplotlib.pyplot as plt\n",
    "from sklearn import datasets\n",
    "from sklearn.linear_model import LogisticRegression\n",
    "from sklearn.model_selection import train_test_split\n",
    "from sklearn.metrics import accuracy_score\n",
    "train = pd.read_csv('train.csv')\n",
    "test = pd.read_csv('test.csv')"
   ]
  },
  {
   "cell_type": "markdown",
   "metadata": {},
   "source": [
    "## Dropping certain parameters and replacing some texts with numbers"
   ]
  },
  {
   "cell_type": "code",
   "execution_count": 3,
   "metadata": {},
   "outputs": [],
   "source": [
    "A = test[['PassengerId']]\n",
    "train = train.drop([\"Name\", \"Ticket\", \"Cabin\", \"PassengerId\"], axis =1)\n",
    "test = test.drop([\"Name\", \"Ticket\", \"Cabin\", \"PassengerId\"], axis =1)\n",
    "train['Sex']=np.where(train['Sex'] =='male', 1, train['Sex'])\n",
    "train['Sex']=np.where(train['Sex'] =='female', 0, train['Sex'])\n",
    "test['Sex']=np.where(test['Sex'] =='male', 1, test['Sex'])\n",
    "test['Sex']=np.where(test['Sex'] =='female', 0, test['Sex'])\n",
    "train['Embarked']=np.where(train['Embarked'] =='Q', 3, train['Embarked'])\n",
    "train['Embarked']=np.where(train['Embarked'] =='C', 3, train['Embarked'])\n",
    "train['Embarked']=np.where(train['Embarked'] =='S', 1, train['Embarked'])\n",
    "test['Embarked']=np.where(test['Embarked'] =='Q', 3, test['Embarked'])\n",
    "test['Embarked']=np.where(test['Embarked'] =='C', 3, test['Embarked'])\n",
    "test['Embarked']=np.where(test['Embarked'] =='S', 1, test['Embarked'])\n",
    "#Average embarked criteria is 1 and average age is 30 so plugging them in\n",
    "train['Embarked'] = train['Embarked'].fillna(1)\n",
    "train['Age']=train['Age'].fillna(30)"
   ]
  },
  {
   "cell_type": "markdown",
   "metadata": {},
   "source": [
    "### Feature Scaling"
   ]
  },
  {
   "cell_type": "code",
   "execution_count": 4,
   "metadata": {},
   "outputs": [],
   "source": [
    "train -= train.min()\n",
    "train/= train.max()\n",
    "test -= test.min()\n",
    "test /= test.max()"
   ]
  },
  {
   "cell_type": "markdown",
   "metadata": {},
   "source": [
    "### Fitting the data into the logistic regression model"
   ]
  },
  {
   "cell_type": "code",
   "execution_count": 6,
   "metadata": {},
   "outputs": [
    {
     "data": {
      "text/plain": [
       "0.79669030732860524"
      ]
     },
     "execution_count": 6,
     "metadata": {},
     "output_type": "execute_result"
    }
   ],
   "source": [
    "X = train.drop([\"Survived\"], axis =1)\n",
    "y = train[[\"Survived\"]]\n",
    "X_train,X_test,y_train,y_test = train_test_split(X,y,train_size=0.95)\n",
    "lr = LogisticRegression()\n",
    "lr.fit(X_train, y_train)\n",
    "A = lr.predict(X_train)\n",
    "accuracy_score(y_train,A)"
   ]
  },
  {
   "cell_type": "markdown",
   "metadata": {},
   "source": [
    "### Making predictions on the test data and saving the output"
   ]
  },
  {
   "cell_type": "code",
   "execution_count": 138,
   "metadata": {},
   "outputs": [],
   "source": [
    "test['Embarked'] = train['Embarked'].fillna(1)\n",
    "test['Age'].fillna(test['Age'].median(), inplace = True)\n",
    "test['Fare'].fillna(test['Fare'].median(), inplace = True)\n",
    "res= lr.predict(test)\n",
    "rdf = pd.DataFrame(data = res, columns= ['Survived'])\n",
    "rdf.to_csv('result.csv')"
   ]
  }
 ],
 "metadata": {
  "kernelspec": {
   "display_name": "Python 2",
   "language": "python",
   "name": "python2"
  },
  "language_info": {
   "codemirror_mode": {
    "name": "ipython",
    "version": 2
   },
   "file_extension": ".py",
   "mimetype": "text/x-python",
   "name": "python",
   "nbconvert_exporter": "python",
   "pygments_lexer": "ipython2",
   "version": "2.7.14"
  }
 },
 "nbformat": 4,
 "nbformat_minor": 2
}
